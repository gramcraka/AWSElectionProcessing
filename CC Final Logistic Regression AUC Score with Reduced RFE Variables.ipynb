{
 "cells": [
  {
   "cell_type": "markdown",
   "metadata": {},
   "source": [
    "Make Sure Environment contains\n",
    "Pandas\n",
    "Matplotlib\n",
    "Numpy\n",
    "Sklearn\n",
    "Collection"
   ]
  },
  {
   "cell_type": "code",
   "execution_count": 243,
   "metadata": {},
   "outputs": [],
   "source": [
    "import pandas as pd\n",
    "import numpy as np\n",
    "#from pandas import Series\n",
    "from pandas import read_csv\n",
    "from pandas import datetime\n",
    "from matplotlib import pyplot as plt\n",
    "from collections import Counter\n",
    "import matplotlib\n",
    "%matplotlib inline"
   ]
  },
  {
   "cell_type": "markdown",
   "metadata": {},
   "source": [
    "Make sure to read_csv from S3 storage\n"
   ]
  },
  {
   "cell_type": "code",
   "execution_count": 244,
   "metadata": {},
   "outputs": [],
   "source": [
    "data = read_csv('/users/briankruse/desktop/anes_timeseries_cdf_rawdata.txt',\n",
    "                 sep='|', skipinitialspace=True,low_memory=False)\n",
    "#Note this is just a raw force feeding of a delimited txt file\n",
    "\n",
    "\n"
   ]
  },
  {
   "cell_type": "code",
   "execution_count": 245,
   "metadata": {},
   "outputs": [],
   "source": [
    "data_1984_2016_x = data[['VCF0004','VCF0702',\n",
    "'VCF0703',\n",
    "'VCF0706',\n",
    "'VCF0709',\n",
    "'VCF0710',\n",
    "'VCF0734',\n",
    "'VCF9022']]"
   ]
  },
  {
   "cell_type": "code",
   "execution_count": 246,
   "metadata": {},
   "outputs": [],
   "source": [
    "data_1984_2016_y = data[['VCF0004','VCF0704a']]"
   ]
  },
  {
   "cell_type": "code",
   "execution_count": 247,
   "metadata": {},
   "outputs": [],
   "source": [
    "#need to drop rows < 1984\n",
    "# need to drop 1986, 1990, 1994, 1998, 2002, 2006, 2010"
   ]
  },
  {
   "cell_type": "code",
   "execution_count": 248,
   "metadata": {},
   "outputs": [],
   "source": [
    "data_gt_1984_x = data_1984_2016_x[data_1984_2016_x.VCF0004 >= 1984]\n",
    "data_gt_1984_y = data_1984_2016_y[data_1984_2016_y.VCF0004 >= 1984]"
   ]
  },
  {
   "cell_type": "code",
   "execution_count": 249,
   "metadata": {},
   "outputs": [],
   "source": [
    "data_1984_pres_x = data_gt_1984_x[(data_gt_1984_x.VCF0004 != 1986) &\n",
    "                              (data_gt_1984_x.VCF0004 !=1990)&\n",
    "                              (data_gt_1984_x.VCF0004 !=1994) &\n",
    "                              (data_gt_1984_x.VCF0004 !=1998)&\n",
    "                              (data_gt_1984_x.VCF0004 !=2002)]\n",
    "data_1984_pres_y = data_gt_1984_y[(data_gt_1984_y.VCF0004 != 1986) &\n",
    "                              (data_gt_1984_y.VCF0004 !=1990)&\n",
    "                              (data_gt_1984_y.VCF0004 !=1994) &\n",
    "                              (data_gt_1984_y.VCF0004 !=1998)&\n",
    "                              (data_gt_1984_y.VCF0004 !=2002)]"
   ]
  },
  {
   "cell_type": "code",
   "execution_count": 250,
   "metadata": {},
   "outputs": [],
   "source": [
    "data_1984_pres_x=pd.get_dummies(data_1984_pres_x, prefix=[\n",
    "'VCF0004','VCF0702',\n",
    "'VCF0703',\n",
    "'VCF0706',\n",
    "'VCF0709',\n",
    "'VCF0710',\n",
    "'VCF0734',\n",
    "'VCF9022'], columns=[\n",
    "'VCF0004','VCF0702',\n",
    "'VCF0703',\n",
    "'VCF0706',\n",
    "'VCF0709',\n",
    "'VCF0710',\n",
    "'VCF0734',\n",
    "'VCF9022'])"
   ]
  },
  {
   "cell_type": "code",
   "execution_count": 251,
   "metadata": {},
   "outputs": [],
   "source": [
    "data_1984_pres_y=pd.get_dummies(data_1984_pres_y, prefix=[\n",
    "'VCF0004','VCF0704a'], columns=[\n",
    "'VCF0004','VCF0704a'])"
   ]
  },
  {
   "cell_type": "code",
   "execution_count": 252,
   "metadata": {},
   "outputs": [],
   "source": [
    "data_test = data_1984_pres_y.copy(deep=True)\n",
    "data_train = data_1984_pres_y.copy(deep=True)\n",
    "data_test_x = data_1984_pres_x.copy(deep=True)\n",
    "data_train_x = data_1984_pres_x.copy(deep=True)\n",
    "\n",
    "\n",
    "\n",
    "\n",
    "\n"
   ]
  },
  {
   "cell_type": "code",
   "execution_count": null,
   "metadata": {},
   "outputs": [],
   "source": []
  },
  {
   "cell_type": "code",
   "execution_count": 253,
   "metadata": {},
   "outputs": [],
   "source": [
    "\n",
    "#data_test_x.drop(column_y, inplace=True, axis=1)\n",
    "#data_train_x.drop(column_y, inplace=True, axis=1)"
   ]
  },
  {
   "cell_type": "code",
   "execution_count": 254,
   "metadata": {},
   "outputs": [],
   "source": [
    "data_test_y =data_1984_pres_y[['VCF0704a_1.0']]\n",
    "data_train_y =data_1984_pres_y[['VCF0704a_1.0']]\n",
    "\n"
   ]
  },
  {
   "cell_type": "code",
   "execution_count": 255,
   "metadata": {},
   "outputs": [],
   "source": [
    "#how do I drop the last 4270 records and keep "
   ]
  },
  {
   "cell_type": "code",
   "execution_count": 256,
   "metadata": {},
   "outputs": [],
   "source": [
    "data_test_y = data_test_y.iloc[-4270:]\n",
    "data_train_y= data_train_y.iloc[0:19751]\n",
    "data_test_x = data_test_x.iloc[-4270:]\n",
    "data_train_x= data_train_x.iloc[0:19751]"
   ]
  },
  {
   "cell_type": "code",
   "execution_count": 257,
   "metadata": {},
   "outputs": [],
   "source": [
    "#I need to remove response variables from X"
   ]
  },
  {
   "cell_type": "code",
   "execution_count": 258,
   "metadata": {},
   "outputs": [],
   "source": [
    "import matplotlib.pyplot as plt\n",
    "from sklearn.preprocessing import scale\n",
    "#from sklearn import cross_validation\n",
    "from sklearn.decomposition import PCA\n",
    "from sklearn.linear_model import LinearRegression\n",
    "from sklearn.cross_decomposition import PLSRegression, PLSSVD\n",
    "from sklearn.metrics import mean_squared_error\n",
    "\n"
   ]
  },
  {
   "cell_type": "code",
   "execution_count": 259,
   "metadata": {},
   "outputs": [],
   "source": [
    "from sklearn.linear_model import LogisticRegression\n",
    "# all parameters not specified are set to their defaults\n",
    "# default solver is incredibly slow which is why it was changed to 'lbfgs'\n",
    "logisticRegr = LogisticRegression(solver = 'lbfgs')"
   ]
  },
  {
   "cell_type": "code",
   "execution_count": 260,
   "metadata": {
    "scrolled": true
   },
   "outputs": [
    {
     "name": "stderr",
     "output_type": "stream",
     "text": [
      "/anaconda/lib/python3.6/site-packages/sklearn/utils/validation.py:752: DataConversionWarning: A column-vector y was passed when a 1d array was expected. Please change the shape of y to (n_samples, ), for example using ravel().\n",
      "  y = column_or_1d(y, warn=True)\n"
     ]
    },
    {
     "data": {
      "text/plain": [
       "LogisticRegression(C=1.0, class_weight=None, dual=False, fit_intercept=True,\n",
       "          intercept_scaling=1, max_iter=100, multi_class='warn',\n",
       "          n_jobs=None, penalty='l2', random_state=None, solver='lbfgs',\n",
       "          tol=0.0001, verbose=0, warm_start=False)"
      ]
     },
     "execution_count": 260,
     "metadata": {},
     "output_type": "execute_result"
    }
   ],
   "source": [
    "logisticRegr.fit(data_train_x, data_train_y)"
   ]
  },
  {
   "cell_type": "code",
   "execution_count": 261,
   "metadata": {},
   "outputs": [
    {
     "data": {
      "text/plain": [
       "1.0"
      ]
     },
     "execution_count": 261,
     "metadata": {},
     "output_type": "execute_result"
    }
   ],
   "source": [
    "logisticRegr.score(data_train_x, data_train_y)"
   ]
  },
  {
   "cell_type": "code",
   "execution_count": 262,
   "metadata": {},
   "outputs": [
    {
     "name": "stderr",
     "output_type": "stream",
     "text": [
      "/anaconda/lib/python3.6/site-packages/sklearn/utils/validation.py:752: DataConversionWarning: A column-vector y was passed when a 1d array was expected. Please change the shape of y to (n_samples, ), for example using ravel().\n",
      "  y = column_or_1d(y, warn=True)\n"
     ]
    },
    {
     "data": {
      "text/plain": [
       "LogisticRegression(C=1.0, class_weight=None, dual=False, fit_intercept=True,\n",
       "          intercept_scaling=1, max_iter=100, multi_class='warn',\n",
       "          n_jobs=None, penalty='l2', random_state=None, solver='lbfgs',\n",
       "          tol=0.0001, verbose=0, warm_start=False)"
      ]
     },
     "execution_count": 262,
     "metadata": {},
     "output_type": "execute_result"
    }
   ],
   "source": [
    "logisticRegr.fit(data_test_x, data_test_y)"
   ]
  },
  {
   "cell_type": "code",
   "execution_count": 263,
   "metadata": {},
   "outputs": [
    {
     "data": {
      "text/plain": [
       "1.0"
      ]
     },
     "execution_count": 263,
     "metadata": {},
     "output_type": "execute_result"
    }
   ],
   "source": [
    "logisticRegr.score(data_test_x, data_test_y)"
   ]
  },
  {
   "cell_type": "code",
   "execution_count": null,
   "metadata": {},
   "outputs": [],
   "source": []
  }
 ],
 "metadata": {
  "kernelspec": {
   "display_name": "Python 3",
   "language": "python",
   "name": "python3"
  },
  "language_info": {
   "codemirror_mode": {
    "name": "ipython",
    "version": 3
   },
   "file_extension": ".py",
   "mimetype": "text/x-python",
   "name": "python",
   "nbconvert_exporter": "python",
   "pygments_lexer": "ipython3",
   "version": "3.6.5"
  }
 },
 "nbformat": 4,
 "nbformat_minor": 2
}
